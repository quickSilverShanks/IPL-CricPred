{
 "cells": [
  {
   "cell_type": "markdown",
   "metadata": {},
   "source": [
    "### Notebook Setup (Imports and Declarations)"
   ]
  },
  {
   "cell_type": "code",
   "execution_count": 43,
   "metadata": {},
   "outputs": [],
   "source": [
    "import os\n",
    "import re\n",
    "\n",
    "import pandas as pd\n",
    "import numpy as np\n",
    "\n",
    "import matplotlib.pyplot as plt\n",
    "%matplotlib inline\n"
   ]
  },
  {
   "cell_type": "code",
   "execution_count": 107,
   "metadata": {},
   "outputs": [],
   "source": [
    "FLOAT_PATTERN = r\"^-?\\d+\\.\\d+$\"\n",
    "\n",
    "TEAM_DICT = {'CSK' : 'Chennai Super Kings',\n",
    "              'DC' : 'Delhi Capitals',\n",
    "              'GT' : 'Gujarat Titans',\n",
    "              'KKR' : 'Kolkata Knight Riders',\n",
    "              'LSG' : 'Lucknow Super Giants',\n",
    "              'MI' : 'Mumbai Indians',\n",
    "              'PBKS' : 'Punjab Kings',\n",
    "              'RCB' : 'Royal Challengers Bengaluru',\n",
    "              'RR' : 'Rajasthan Royals',\n",
    "              'SRH' : 'Sunrisers Hyderabad'\n",
    "              }"
   ]
  },
  {
   "cell_type": "markdown",
   "metadata": {},
   "source": [
    "### Data : Auction 2025"
   ]
  },
  {
   "cell_type": "code",
   "execution_count": 108,
   "metadata": {},
   "outputs": [
    {
     "data": {
      "text/html": [
       "<div>\n",
       "<style scoped>\n",
       "    .dataframe tbody tr th:only-of-type {\n",
       "        vertical-align: middle;\n",
       "    }\n",
       "\n",
       "    .dataframe tbody tr th {\n",
       "        vertical-align: top;\n",
       "    }\n",
       "\n",
       "    .dataframe thead th {\n",
       "        text-align: right;\n",
       "    }\n",
       "</style>\n",
       "<table border=\"1\" class=\"dataframe\">\n",
       "  <thead>\n",
       "    <tr style=\"text-align: right;\">\n",
       "      <th></th>\n",
       "      <th>Players</th>\n",
       "      <th>Team</th>\n",
       "      <th>Type</th>\n",
       "      <th>Base</th>\n",
       "      <th>Sold</th>\n",
       "      <th>sold_status</th>\n",
       "    </tr>\n",
       "  </thead>\n",
       "  <tbody>\n",
       "    <tr>\n",
       "      <th>0</th>\n",
       "      <td>Virat Kohli</td>\n",
       "      <td>RCB</td>\n",
       "      <td>BAT</td>\n",
       "      <td>-</td>\n",
       "      <td>21.00</td>\n",
       "      <td>sold</td>\n",
       "    </tr>\n",
       "    <tr>\n",
       "      <th>1</th>\n",
       "      <td>Rajat Patidar</td>\n",
       "      <td>RCB</td>\n",
       "      <td>BAT</td>\n",
       "      <td>-</td>\n",
       "      <td>11.00</td>\n",
       "      <td>sold</td>\n",
       "    </tr>\n",
       "    <tr>\n",
       "      <th>2</th>\n",
       "      <td>Yash Dayal</td>\n",
       "      <td>RCB</td>\n",
       "      <td>BOWL</td>\n",
       "      <td>-</td>\n",
       "      <td>5.00</td>\n",
       "      <td>sold</td>\n",
       "    </tr>\n",
       "  </tbody>\n",
       "</table>\n",
       "</div>"
      ],
      "text/plain": [
       "         Players Team  Type Base   Sold sold_status\n",
       "0    Virat Kohli  RCB   BAT    -  21.00        sold\n",
       "1  Rajat Patidar  RCB   BAT    -  11.00        sold\n",
       "2     Yash Dayal  RCB  BOWL    -   5.00        sold"
      ]
     },
     "execution_count": 108,
     "metadata": {},
     "output_type": "execute_result"
    }
   ],
   "source": [
    "auction25 = pd.read_csv(\"../data/kaggle/auction_2025/ipl_2025_auction_players.csv\")\n",
    "auction25[\"sold_status\"] = auction25[\"Sold\"].apply(lambda x : \"sold\" if re.match(FLOAT_PATTERN, x) else x)\n",
    "\n",
    "auction25.head(3)\n"
   ]
  },
  {
   "cell_type": "code",
   "execution_count": 109,
   "metadata": {},
   "outputs": [
    {
     "data": {
      "text/html": [
       "<div>\n",
       "<style scoped>\n",
       "    .dataframe tbody tr th:only-of-type {\n",
       "        vertical-align: middle;\n",
       "    }\n",
       "\n",
       "    .dataframe tbody tr th {\n",
       "        vertical-align: top;\n",
       "    }\n",
       "\n",
       "    .dataframe thead th {\n",
       "        text-align: right;\n",
       "    }\n",
       "</style>\n",
       "<table border=\"1\" class=\"dataframe\">\n",
       "  <thead>\n",
       "    <tr style=\"text-align: right;\">\n",
       "      <th>Team</th>\n",
       "      <th>-</th>\n",
       "      <th>CSK</th>\n",
       "      <th>DC</th>\n",
       "      <th>GT</th>\n",
       "      <th>KKR</th>\n",
       "      <th>LSG</th>\n",
       "      <th>MI</th>\n",
       "      <th>PBKS</th>\n",
       "      <th>RCB</th>\n",
       "      <th>RR</th>\n",
       "      <th>SRH</th>\n",
       "    </tr>\n",
       "    <tr>\n",
       "      <th>sold_status</th>\n",
       "      <th></th>\n",
       "      <th></th>\n",
       "      <th></th>\n",
       "      <th></th>\n",
       "      <th></th>\n",
       "      <th></th>\n",
       "      <th></th>\n",
       "      <th></th>\n",
       "      <th></th>\n",
       "      <th></th>\n",
       "      <th></th>\n",
       "    </tr>\n",
       "  </thead>\n",
       "  <tbody>\n",
       "    <tr>\n",
       "      <th>TBA</th>\n",
       "      <td>293.0</td>\n",
       "      <td>0.0</td>\n",
       "      <td>0.0</td>\n",
       "      <td>0.0</td>\n",
       "      <td>0.0</td>\n",
       "      <td>0.0</td>\n",
       "      <td>0.0</td>\n",
       "      <td>0.0</td>\n",
       "      <td>0.0</td>\n",
       "      <td>0.0</td>\n",
       "      <td>0.0</td>\n",
       "    </tr>\n",
       "    <tr>\n",
       "      <th>Unsold</th>\n",
       "      <td>102.0</td>\n",
       "      <td>0.0</td>\n",
       "      <td>0.0</td>\n",
       "      <td>0.0</td>\n",
       "      <td>0.0</td>\n",
       "      <td>1.0</td>\n",
       "      <td>0.0</td>\n",
       "      <td>0.0</td>\n",
       "      <td>0.0</td>\n",
       "      <td>0.0</td>\n",
       "      <td>0.0</td>\n",
       "    </tr>\n",
       "    <tr>\n",
       "      <th>sold</th>\n",
       "      <td>0.0</td>\n",
       "      <td>25.0</td>\n",
       "      <td>23.0</td>\n",
       "      <td>25.0</td>\n",
       "      <td>21.0</td>\n",
       "      <td>23.0</td>\n",
       "      <td>23.0</td>\n",
       "      <td>25.0</td>\n",
       "      <td>22.0</td>\n",
       "      <td>20.0</td>\n",
       "      <td>20.0</td>\n",
       "    </tr>\n",
       "  </tbody>\n",
       "</table>\n",
       "</div>"
      ],
      "text/plain": [
       "Team             -   CSK    DC    GT   KKR   LSG    MI  PBKS   RCB    RR   SRH\n",
       "sold_status                                                                   \n",
       "TBA          293.0   0.0   0.0   0.0   0.0   0.0   0.0   0.0   0.0   0.0   0.0\n",
       "Unsold       102.0   0.0   0.0   0.0   0.0   1.0   0.0   0.0   0.0   0.0   0.0\n",
       "sold           0.0  25.0  23.0  25.0  21.0  23.0  23.0  25.0  22.0  20.0  20.0"
      ]
     },
     "execution_count": 109,
     "metadata": {},
     "output_type": "execute_result"
    }
   ],
   "source": [
    "auction25.groupby([\"sold_status\", \"Team\"]).count()[\"Players\"].reset_index().pivot(index=\"sold_status\", columns=\"Team\", values=\"Players\").fillna(0)"
   ]
  },
  {
   "cell_type": "markdown",
   "metadata": {},
   "source": [
    "**Note:**\n",
    "- DC has one extra sold player: \"Harry Brook\"\n",
    "- Unsold in LSG has been verified to be sold\n",
    "- It would probably be a good idea to make above changes and keep sold player's info as it is the final squad."
   ]
  },
  {
   "cell_type": "code",
   "execution_count": 110,
   "metadata": {},
   "outputs": [
    {
     "data": {
      "text/html": [
       "<div>\n",
       "<style scoped>\n",
       "    .dataframe tbody tr th:only-of-type {\n",
       "        vertical-align: middle;\n",
       "    }\n",
       "\n",
       "    .dataframe tbody tr th {\n",
       "        vertical-align: top;\n",
       "    }\n",
       "\n",
       "    .dataframe thead th {\n",
       "        text-align: right;\n",
       "    }\n",
       "</style>\n",
       "<table border=\"1\" class=\"dataframe\">\n",
       "  <thead>\n",
       "    <tr style=\"text-align: right;\">\n",
       "      <th>Team</th>\n",
       "      <th>-</th>\n",
       "      <th>CSK</th>\n",
       "      <th>DC</th>\n",
       "      <th>GT</th>\n",
       "      <th>KKR</th>\n",
       "      <th>LSG</th>\n",
       "      <th>MI</th>\n",
       "      <th>PBKS</th>\n",
       "      <th>RCB</th>\n",
       "      <th>RR</th>\n",
       "      <th>SRH</th>\n",
       "    </tr>\n",
       "    <tr>\n",
       "      <th>sold_status</th>\n",
       "      <th></th>\n",
       "      <th></th>\n",
       "      <th></th>\n",
       "      <th></th>\n",
       "      <th></th>\n",
       "      <th></th>\n",
       "      <th></th>\n",
       "      <th></th>\n",
       "      <th></th>\n",
       "      <th></th>\n",
       "      <th></th>\n",
       "    </tr>\n",
       "  </thead>\n",
       "  <tbody>\n",
       "    <tr>\n",
       "      <th>TBA</th>\n",
       "      <td>293.0</td>\n",
       "      <td>0.0</td>\n",
       "      <td>0.0</td>\n",
       "      <td>0.0</td>\n",
       "      <td>0.0</td>\n",
       "      <td>0.0</td>\n",
       "      <td>0.0</td>\n",
       "      <td>0.0</td>\n",
       "      <td>0.0</td>\n",
       "      <td>0.0</td>\n",
       "      <td>0.0</td>\n",
       "    </tr>\n",
       "    <tr>\n",
       "      <th>Unsold</th>\n",
       "      <td>102.0</td>\n",
       "      <td>0.0</td>\n",
       "      <td>0.0</td>\n",
       "      <td>0.0</td>\n",
       "      <td>0.0</td>\n",
       "      <td>0.0</td>\n",
       "      <td>0.0</td>\n",
       "      <td>0.0</td>\n",
       "      <td>0.0</td>\n",
       "      <td>0.0</td>\n",
       "      <td>0.0</td>\n",
       "    </tr>\n",
       "    <tr>\n",
       "      <th>sold</th>\n",
       "      <td>0.0</td>\n",
       "      <td>25.0</td>\n",
       "      <td>22.0</td>\n",
       "      <td>25.0</td>\n",
       "      <td>21.0</td>\n",
       "      <td>24.0</td>\n",
       "      <td>23.0</td>\n",
       "      <td>25.0</td>\n",
       "      <td>22.0</td>\n",
       "      <td>20.0</td>\n",
       "      <td>20.0</td>\n",
       "    </tr>\n",
       "  </tbody>\n",
       "</table>\n",
       "</div>"
      ],
      "text/plain": [
       "Team             -   CSK    DC    GT   KKR   LSG    MI  PBKS   RCB    RR   SRH\n",
       "sold_status                                                                   \n",
       "TBA          293.0   0.0   0.0   0.0   0.0   0.0   0.0   0.0   0.0   0.0   0.0\n",
       "Unsold       102.0   0.0   0.0   0.0   0.0   0.0   0.0   0.0   0.0   0.0   0.0\n",
       "sold           0.0  25.0  22.0  25.0  21.0  24.0  23.0  25.0  22.0  20.0  20.0"
      ]
     },
     "execution_count": 110,
     "metadata": {},
     "output_type": "execute_result"
    }
   ],
   "source": [
    "# modifications required after data verification\n",
    "\n",
    "auction25 = auction25[auction25[\"Players\"]!=\"Harry Brook\"].copy()\n",
    "\n",
    "auction25[\"Sold\"] = auction25.apply(lambda x: \"0.3\" if (x[\"Team\"]==\"LSG\" and x[\"Sold\"]==\"Unsold\") else x[\"Sold\"], axis=1)\n",
    "auction25[\"sold_status\"] = auction25[\"Sold\"].apply(lambda x : \"sold\" if re.match(FLOAT_PATTERN, x) else x)\n",
    "\n",
    "auction25.groupby([\"sold_status\", \"Team\"]).count()[\"Players\"].reset_index().pivot(index=\"sold_status\", columns=\"Team\", values=\"Players\").fillna(0)"
   ]
  },
  {
   "cell_type": "code",
   "execution_count": 111,
   "metadata": {},
   "outputs": [
    {
     "name": "stdout",
     "output_type": "stream",
     "text": [
      "Auction Data(original and cleaned) :  (622, 6) (227, 5)\n"
     ]
    },
    {
     "data": {
      "text/html": [
       "<div>\n",
       "<style scoped>\n",
       "    .dataframe tbody tr th:only-of-type {\n",
       "        vertical-align: middle;\n",
       "    }\n",
       "\n",
       "    .dataframe tbody tr th {\n",
       "        vertical-align: top;\n",
       "    }\n",
       "\n",
       "    .dataframe thead th {\n",
       "        text-align: right;\n",
       "    }\n",
       "</style>\n",
       "<table border=\"1\" class=\"dataframe\">\n",
       "  <thead>\n",
       "    <tr style=\"text-align: right;\">\n",
       "      <th></th>\n",
       "      <th>Players</th>\n",
       "      <th>Team</th>\n",
       "      <th>Type</th>\n",
       "      <th>Base</th>\n",
       "      <th>Sold</th>\n",
       "    </tr>\n",
       "  </thead>\n",
       "  <tbody>\n",
       "    <tr>\n",
       "      <th>0</th>\n",
       "      <td>Virat Kohli</td>\n",
       "      <td>RCB</td>\n",
       "      <td>BAT</td>\n",
       "      <td>-</td>\n",
       "      <td>21.0</td>\n",
       "    </tr>\n",
       "    <tr>\n",
       "      <th>1</th>\n",
       "      <td>Rajat Patidar</td>\n",
       "      <td>RCB</td>\n",
       "      <td>BAT</td>\n",
       "      <td>-</td>\n",
       "      <td>11.0</td>\n",
       "    </tr>\n",
       "    <tr>\n",
       "      <th>2</th>\n",
       "      <td>Yash Dayal</td>\n",
       "      <td>RCB</td>\n",
       "      <td>BOWL</td>\n",
       "      <td>-</td>\n",
       "      <td>5.0</td>\n",
       "    </tr>\n",
       "  </tbody>\n",
       "</table>\n",
       "</div>"
      ],
      "text/plain": [
       "         Players Team  Type Base  Sold\n",
       "0    Virat Kohli  RCB   BAT    -  21.0\n",
       "1  Rajat Patidar  RCB   BAT    -  11.0\n",
       "2     Yash Dayal  RCB  BOWL    -   5.0"
      ]
     },
     "execution_count": 111,
     "metadata": {},
     "output_type": "execute_result"
    }
   ],
   "source": [
    "auction25_cleaned = auction25[auction25[\"sold_status\"]==\"sold\"].drop(\"sold_status\", axis=1).astype({\"Sold\":float}).copy()\n",
    "print(\"Auction Data(original and cleaned) : \", auction25.shape, auction25_cleaned.shape)\n",
    "auction25_cleaned.head(3)"
   ]
  },
  {
   "cell_type": "code",
   "execution_count": 112,
   "metadata": {},
   "outputs": [
    {
     "data": {
      "image/png": "[encoded data removed]",
      "text/plain": [
       "<Figure size 1200x500 with 2 Axes>"
      ]
     },
     "metadata": {},
     "output_type": "display_data"
    }
   ],
   "source": [
    "fig, ax = plt.subplots(1, 2, figsize=(12, 5))\n",
    "\n",
    "auction25_cleaned.boxplot(column=\"Sold\", by=\"Team\", ax=ax[0])\n",
    "\n",
    "auction25_cleaned.groupby(\"Team\")[\"Sold\"].sum().plot.bar(ax=ax[1])\n",
    "\n",
    "plt.tight_layout()\n",
    "plt.show()"
   ]
  },
  {
   "cell_type": "code",
   "execution_count": 113,
   "metadata": {},
   "outputs": [
    {
     "data": {
      "text/html": [
       "<div>\n",
       "<style scoped>\n",
       "    .dataframe tbody tr th:only-of-type {\n",
       "        vertical-align: middle;\n",
       "    }\n",
       "\n",
       "    .dataframe tbody tr th {\n",
       "        vertical-align: top;\n",
       "    }\n",
       "\n",
       "    .dataframe thead th {\n",
       "        text-align: right;\n",
       "    }\n",
       "</style>\n",
       "<table border=\"1\" class=\"dataframe\">\n",
       "  <thead>\n",
       "    <tr style=\"text-align: right;\">\n",
       "      <th></th>\n",
       "      <th>Players</th>\n",
       "      <th>Team</th>\n",
       "      <th>Type</th>\n",
       "      <th>Base</th>\n",
       "      <th>Sold</th>\n",
       "      <th>Team_Name</th>\n",
       "    </tr>\n",
       "  </thead>\n",
       "  <tbody>\n",
       "    <tr>\n",
       "      <th>0</th>\n",
       "      <td>Virat Kohli</td>\n",
       "      <td>RCB</td>\n",
       "      <td>BAT</td>\n",
       "      <td>-</td>\n",
       "      <td>21.0</td>\n",
       "      <td>Royal Challengers Bengaluru</td>\n",
       "    </tr>\n",
       "    <tr>\n",
       "      <th>1</th>\n",
       "      <td>Rajat Patidar</td>\n",
       "      <td>RCB</td>\n",
       "      <td>BAT</td>\n",
       "      <td>-</td>\n",
       "      <td>11.0</td>\n",
       "      <td>Royal Challengers Bengaluru</td>\n",
       "    </tr>\n",
       "    <tr>\n",
       "      <th>2</th>\n",
       "      <td>Yash Dayal</td>\n",
       "      <td>RCB</td>\n",
       "      <td>BOWL</td>\n",
       "      <td>-</td>\n",
       "      <td>5.0</td>\n",
       "      <td>Royal Challengers Bengaluru</td>\n",
       "    </tr>\n",
       "  </tbody>\n",
       "</table>\n",
       "</div>"
      ],
      "text/plain": [
       "         Players Team  Type Base  Sold                    Team_Name\n",
       "0    Virat Kohli  RCB   BAT    -  21.0  Royal Challengers Bengaluru\n",
       "1  Rajat Patidar  RCB   BAT    -  11.0  Royal Challengers Bengaluru\n",
       "2     Yash Dayal  RCB  BOWL    -   5.0  Royal Challengers Bengaluru"
      ]
     },
     "execution_count": 113,
     "metadata": {},
     "output_type": "execute_result"
    }
   ],
   "source": [
    "auction25_cleaned[\"Team_Name\"] = auction25_cleaned[\"Team\"].apply(lambda x: TEAM_DICT.get(x))\n",
    "auction25_cleaned.head(3)"
   ]
  },
  {
   "cell_type": "code",
   "execution_count": 115,
   "metadata": {},
   "outputs": [],
   "source": [
    "auction25_cleaned.to_csv(\"../data/processed/auction25.csv\", index=False)"
   ]
  },
  {
   "cell_type": "markdown",
   "metadata": {},
   "source": [
    "### Data : Matches"
   ]
  },
  {
   "cell_type": "markdown",
   "metadata": {},
   "source": []
  }
 ],
 "metadata": {
  "kernelspec": {
   "display_name": "ipl",
   "language": "python",
   "name": "python3"
  },
  "language_info": {
   "codemirror_mode": {
    "name": "ipython",
    "version": 3
   },
   "file_extension": ".py",
   "mimetype": "text/x-python",
   "name": "python",
   "nbconvert_exporter": "python",
   "pygments_lexer": "ipython3",
   "version": "3.13.2"
  }
 },
 "nbformat": 4,
 "nbformat_minor": 2
}
